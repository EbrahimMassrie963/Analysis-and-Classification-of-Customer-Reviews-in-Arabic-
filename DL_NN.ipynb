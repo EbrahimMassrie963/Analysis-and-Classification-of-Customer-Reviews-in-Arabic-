{
  "nbformat": 4,
  "nbformat_minor": 0,
  "metadata": {
    "colab": {
      "provenance": [],
      "gpuType": "T4"
    },
    "kernelspec": {
      "name": "python3",
      "display_name": "Python 3"
    },
    "language_info": {
      "name": "python"
    },
    "accelerator": "GPU"
  },
  "cells": [
    {
      "cell_type": "markdown",
      "source": [
        "## Deep Learning Models\n",
        "in this notebook, We will build deep learning models to try to get higher performance in classifying comments into positive and negative."
      ],
      "metadata": {
        "id": "o69S5dHdQhDp"
      }
    },
    {
      "cell_type": "code",
      "source": [
        "# import modules\n",
        "import pandas as pd\n",
        "import numpy as np\n",
        "import matplotlib.pyplot as plt\n",
        "import re\n",
        "import nltk\n",
        "from nltk.corpus import stopwords\n",
        "from sklearn.model_selection import train_test_split\n",
        "from sklearn.preprocessing import LabelEncoder\n",
        "from tensorflow.keras.preprocessing.text import Tokenizer\n",
        "from tensorflow.keras.preprocessing.sequence import pad_sequences\n",
        "from tensorflow.keras.layers import Embedding, Conv1D, GlobalMaxPooling1D, Dense, Dropout, LSTM, Bidirectional\n",
        "from tensorflow.keras.optimizers import Adam\n",
        "from tensorflow.keras.callbacks import EarlyStopping, ReduceLROnPlateau\n",
        "from tensorflow.keras.models import Sequential\n",
        "from sklearn.metrics import classification_report, f1_score\n",
        "import tensorflow as tf\n",
        "from keras.callbacks import LearningRateScheduler\n",
        "from gensim.models import Word2Vec\n",
        "from sklearn.metrics import roc_curve, auc"
      ],
      "metadata": {
        "id": "hlEt7Zl1kVig"
      },
      "execution_count": null,
      "outputs": []
    },
    {
      "cell_type": "code",
      "source": [
        "# read dataset\n",
        "data = pd.read_csv('/content/drive/MyDrive/classification_reviews/data/amazon_cleaned.csv')\n",
        "\n",
        "# show the first 20 rows\n",
        "data.head(20)"
      ],
      "metadata": {
        "colab": {
          "base_uri": "https://localhost:8080/",
          "height": 677
        },
        "id": "3Trvpg7Zh0uX",
        "outputId": "5bae8235-8d4f-4150-cf38-fb7cfc5d9da2"
      },
      "execution_count": null,
      "outputs": [
        {
          "output_type": "execute_result",
          "data": {
            "text/plain": [
              "    Unnamed: 0  label                                       cleaned_text\n",
              "0        65005     -1  حب تر تان قرأ كتب منتشر لي ناس تتكلم عن قصد عد...\n",
              "1         6736      1                                             حمل قع\n",
              "2        63032     -1  كتاب صغح تلخص كل دا صفح كرار طريق ظيع درج ني ق...\n",
              "3         2990      1                     استثنائ جميل جد موقع استراتيجي\n",
              "4        50213     -1  موحش رهيب مليء حشر ذهب مرة خرى قع فندق جوار طي...\n",
              "5        30288      1  نهي تو هو قاتل مي معلوف كتاب جيد جد لكن حب نظر...\n",
              "6         6650      1                                           جميل شيء\n",
              "7         6016      1                                       استثنائ موقع\n",
              "8         7515      1  تاب قرأ غاز قصيب وقف عند معقد قصوص تب على قصوص...\n",
              "9        19413      1  بدو هاروكى مبيعرفش كتب روا حط تاتش فانتازي تاع...\n",
              "10       21888      1  نصح سكن كرر تجرب ان شاءالل فندق قريب جد حرم جه...\n",
              "11       19496      1  كتاب ملخص كار نظر مجتمع نصح شخص عرب ذات خليجي ...\n",
              "12       22914      1  جميل مهار تواصل فهم آخرين بساط متناه سهل هم جذ...\n",
              "13        7963      1         دق جميييييل جد دق ظيف خدم مميز هادئقرب حرم\n",
              "14       17203      1                      سلع ممتاز تمنى سرع صول مستقبل\n",
              "15       24012      1  عظم سباب أخر مسلم علم ناقص شد خطر جهل بسيط جاه...\n",
              "16       58613     -1  ترجمه تضيع متع روايه مترجم ازم كو رواءى مش شاط...\n",
              "17       24987      1  روا رائع جد متكامل مثل مأسا شعب ليب خلال عهد س...\n",
              "18       28632      1              ممتاز استقبال افطار نظافه اسعار مرتفع\n",
              "19       64216     -1  كتاب سىء سىء سىء سىء سوأ قرأ فى دني مش ضد إيرو..."
            ],
            "text/html": [
              "\n",
              "\n",
              "  <div id=\"df-5f871739-fbf3-4f23-91c8-fc2eb04e1923\">\n",
              "    <div class=\"colab-df-container\">\n",
              "      <div>\n",
              "<style scoped>\n",
              "    .dataframe tbody tr th:only-of-type {\n",
              "        vertical-align: middle;\n",
              "    }\n",
              "\n",
              "    .dataframe tbody tr th {\n",
              "        vertical-align: top;\n",
              "    }\n",
              "\n",
              "    .dataframe thead th {\n",
              "        text-align: right;\n",
              "    }\n",
              "</style>\n",
              "<table border=\"1\" class=\"dataframe\">\n",
              "  <thead>\n",
              "    <tr style=\"text-align: right;\">\n",
              "      <th></th>\n",
              "      <th>Unnamed: 0</th>\n",
              "      <th>label</th>\n",
              "      <th>cleaned_text</th>\n",
              "    </tr>\n",
              "  </thead>\n",
              "  <tbody>\n",
              "    <tr>\n",
              "      <th>0</th>\n",
              "      <td>65005</td>\n",
              "      <td>-1</td>\n",
              "      <td>حب تر تان قرأ كتب منتشر لي ناس تتكلم عن قصد عد...</td>\n",
              "    </tr>\n",
              "    <tr>\n",
              "      <th>1</th>\n",
              "      <td>6736</td>\n",
              "      <td>1</td>\n",
              "      <td>حمل قع</td>\n",
              "    </tr>\n",
              "    <tr>\n",
              "      <th>2</th>\n",
              "      <td>63032</td>\n",
              "      <td>-1</td>\n",
              "      <td>كتاب صغح تلخص كل دا صفح كرار طريق ظيع درج ني ق...</td>\n",
              "    </tr>\n",
              "    <tr>\n",
              "      <th>3</th>\n",
              "      <td>2990</td>\n",
              "      <td>1</td>\n",
              "      <td>استثنائ جميل جد موقع استراتيجي</td>\n",
              "    </tr>\n",
              "    <tr>\n",
              "      <th>4</th>\n",
              "      <td>50213</td>\n",
              "      <td>-1</td>\n",
              "      <td>موحش رهيب مليء حشر ذهب مرة خرى قع فندق جوار طي...</td>\n",
              "    </tr>\n",
              "    <tr>\n",
              "      <th>5</th>\n",
              "      <td>30288</td>\n",
              "      <td>1</td>\n",
              "      <td>نهي تو هو قاتل مي معلوف كتاب جيد جد لكن حب نظر...</td>\n",
              "    </tr>\n",
              "    <tr>\n",
              "      <th>6</th>\n",
              "      <td>6650</td>\n",
              "      <td>1</td>\n",
              "      <td>جميل شيء</td>\n",
              "    </tr>\n",
              "    <tr>\n",
              "      <th>7</th>\n",
              "      <td>6016</td>\n",
              "      <td>1</td>\n",
              "      <td>استثنائ موقع</td>\n",
              "    </tr>\n",
              "    <tr>\n",
              "      <th>8</th>\n",
              "      <td>7515</td>\n",
              "      <td>1</td>\n",
              "      <td>تاب قرأ غاز قصيب وقف عند معقد قصوص تب على قصوص...</td>\n",
              "    </tr>\n",
              "    <tr>\n",
              "      <th>9</th>\n",
              "      <td>19413</td>\n",
              "      <td>1</td>\n",
              "      <td>بدو هاروكى مبيعرفش كتب روا حط تاتش فانتازي تاع...</td>\n",
              "    </tr>\n",
              "    <tr>\n",
              "      <th>10</th>\n",
              "      <td>21888</td>\n",
              "      <td>1</td>\n",
              "      <td>نصح سكن كرر تجرب ان شاءالل فندق قريب جد حرم جه...</td>\n",
              "    </tr>\n",
              "    <tr>\n",
              "      <th>11</th>\n",
              "      <td>19496</td>\n",
              "      <td>1</td>\n",
              "      <td>كتاب ملخص كار نظر مجتمع نصح شخص عرب ذات خليجي ...</td>\n",
              "    </tr>\n",
              "    <tr>\n",
              "      <th>12</th>\n",
              "      <td>22914</td>\n",
              "      <td>1</td>\n",
              "      <td>جميل مهار تواصل فهم آخرين بساط متناه سهل هم جذ...</td>\n",
              "    </tr>\n",
              "    <tr>\n",
              "      <th>13</th>\n",
              "      <td>7963</td>\n",
              "      <td>1</td>\n",
              "      <td>دق جميييييل جد دق ظيف خدم مميز هادئقرب حرم</td>\n",
              "    </tr>\n",
              "    <tr>\n",
              "      <th>14</th>\n",
              "      <td>17203</td>\n",
              "      <td>1</td>\n",
              "      <td>سلع ممتاز تمنى سرع صول مستقبل</td>\n",
              "    </tr>\n",
              "    <tr>\n",
              "      <th>15</th>\n",
              "      <td>24012</td>\n",
              "      <td>1</td>\n",
              "      <td>عظم سباب أخر مسلم علم ناقص شد خطر جهل بسيط جاه...</td>\n",
              "    </tr>\n",
              "    <tr>\n",
              "      <th>16</th>\n",
              "      <td>58613</td>\n",
              "      <td>-1</td>\n",
              "      <td>ترجمه تضيع متع روايه مترجم ازم كو رواءى مش شاط...</td>\n",
              "    </tr>\n",
              "    <tr>\n",
              "      <th>17</th>\n",
              "      <td>24987</td>\n",
              "      <td>1</td>\n",
              "      <td>روا رائع جد متكامل مثل مأسا شعب ليب خلال عهد س...</td>\n",
              "    </tr>\n",
              "    <tr>\n",
              "      <th>18</th>\n",
              "      <td>28632</td>\n",
              "      <td>1</td>\n",
              "      <td>ممتاز استقبال افطار نظافه اسعار مرتفع</td>\n",
              "    </tr>\n",
              "    <tr>\n",
              "      <th>19</th>\n",
              "      <td>64216</td>\n",
              "      <td>-1</td>\n",
              "      <td>كتاب سىء سىء سىء سىء سوأ قرأ فى دني مش ضد إيرو...</td>\n",
              "    </tr>\n",
              "  </tbody>\n",
              "</table>\n",
              "</div>\n",
              "      <button class=\"colab-df-convert\" onclick=\"convertToInteractive('df-5f871739-fbf3-4f23-91c8-fc2eb04e1923')\"\n",
              "              title=\"Convert this dataframe to an interactive table.\"\n",
              "              style=\"display:none;\">\n",
              "\n",
              "  <svg xmlns=\"http://www.w3.org/2000/svg\" height=\"24px\"viewBox=\"0 0 24 24\"\n",
              "       width=\"24px\">\n",
              "    <path d=\"M0 0h24v24H0V0z\" fill=\"none\"/>\n",
              "    <path d=\"M18.56 5.44l.94 2.06.94-2.06 2.06-.94-2.06-.94-.94-2.06-.94 2.06-2.06.94zm-11 1L8.5 8.5l.94-2.06 2.06-.94-2.06-.94L8.5 2.5l-.94 2.06-2.06.94zm10 10l.94 2.06.94-2.06 2.06-.94-2.06-.94-.94-2.06-.94 2.06-2.06.94z\"/><path d=\"M17.41 7.96l-1.37-1.37c-.4-.4-.92-.59-1.43-.59-.52 0-1.04.2-1.43.59L10.3 9.45l-7.72 7.72c-.78.78-.78 2.05 0 2.83L4 21.41c.39.39.9.59 1.41.59.51 0 1.02-.2 1.41-.59l7.78-7.78 2.81-2.81c.8-.78.8-2.07 0-2.86zM5.41 20L4 18.59l7.72-7.72 1.47 1.35L5.41 20z\"/>\n",
              "  </svg>\n",
              "      </button>\n",
              "\n",
              "\n",
              "\n",
              "    <div id=\"df-662bc142-80fd-4b37-9744-ea95fd4e55db\">\n",
              "      <button class=\"colab-df-quickchart\" onclick=\"quickchart('df-662bc142-80fd-4b37-9744-ea95fd4e55db')\"\n",
              "              title=\"Suggest charts.\"\n",
              "              style=\"display:none;\">\n",
              "\n",
              "<svg xmlns=\"http://www.w3.org/2000/svg\" height=\"24px\"viewBox=\"0 0 24 24\"\n",
              "     width=\"24px\">\n",
              "    <g>\n",
              "        <path d=\"M19 3H5c-1.1 0-2 .9-2 2v14c0 1.1.9 2 2 2h14c1.1 0 2-.9 2-2V5c0-1.1-.9-2-2-2zM9 17H7v-7h2v7zm4 0h-2V7h2v10zm4 0h-2v-4h2v4z\"/>\n",
              "    </g>\n",
              "</svg>\n",
              "      </button>\n",
              "    </div>\n",
              "\n",
              "<style>\n",
              "  .colab-df-quickchart {\n",
              "    background-color: #E8F0FE;\n",
              "    border: none;\n",
              "    border-radius: 50%;\n",
              "    cursor: pointer;\n",
              "    display: none;\n",
              "    fill: #1967D2;\n",
              "    height: 32px;\n",
              "    padding: 0 0 0 0;\n",
              "    width: 32px;\n",
              "  }\n",
              "\n",
              "  .colab-df-quickchart:hover {\n",
              "    background-color: #E2EBFA;\n",
              "    box-shadow: 0px 1px 2px rgba(60, 64, 67, 0.3), 0px 1px 3px 1px rgba(60, 64, 67, 0.15);\n",
              "    fill: #174EA6;\n",
              "  }\n",
              "\n",
              "  [theme=dark] .colab-df-quickchart {\n",
              "    background-color: #3B4455;\n",
              "    fill: #D2E3FC;\n",
              "  }\n",
              "\n",
              "  [theme=dark] .colab-df-quickchart:hover {\n",
              "    background-color: #434B5C;\n",
              "    box-shadow: 0px 1px 3px 1px rgba(0, 0, 0, 0.15);\n",
              "    filter: drop-shadow(0px 1px 2px rgba(0, 0, 0, 0.3));\n",
              "    fill: #FFFFFF;\n",
              "  }\n",
              "</style>\n",
              "\n",
              "    <script>\n",
              "      async function quickchart(key) {\n",
              "        const containerElement = document.querySelector('#' + key);\n",
              "        const charts = await google.colab.kernel.invokeFunction(\n",
              "            'suggestCharts', [key], {});\n",
              "      }\n",
              "    </script>\n",
              "\n",
              "      <script>\n",
              "\n",
              "function displayQuickchartButton(domScope) {\n",
              "  let quickchartButtonEl =\n",
              "    domScope.querySelector('#df-662bc142-80fd-4b37-9744-ea95fd4e55db button.colab-df-quickchart');\n",
              "  quickchartButtonEl.style.display =\n",
              "    google.colab.kernel.accessAllowed ? 'block' : 'none';\n",
              "}\n",
              "\n",
              "        displayQuickchartButton(document);\n",
              "      </script>\n",
              "      <style>\n",
              "    .colab-df-container {\n",
              "      display:flex;\n",
              "      flex-wrap:wrap;\n",
              "      gap: 12px;\n",
              "    }\n",
              "\n",
              "    .colab-df-convert {\n",
              "      background-color: #E8F0FE;\n",
              "      border: none;\n",
              "      border-radius: 50%;\n",
              "      cursor: pointer;\n",
              "      display: none;\n",
              "      fill: #1967D2;\n",
              "      height: 32px;\n",
              "      padding: 0 0 0 0;\n",
              "      width: 32px;\n",
              "    }\n",
              "\n",
              "    .colab-df-convert:hover {\n",
              "      background-color: #E2EBFA;\n",
              "      box-shadow: 0px 1px 2px rgba(60, 64, 67, 0.3), 0px 1px 3px 1px rgba(60, 64, 67, 0.15);\n",
              "      fill: #174EA6;\n",
              "    }\n",
              "\n",
              "    [theme=dark] .colab-df-convert {\n",
              "      background-color: #3B4455;\n",
              "      fill: #D2E3FC;\n",
              "    }\n",
              "\n",
              "    [theme=dark] .colab-df-convert:hover {\n",
              "      background-color: #434B5C;\n",
              "      box-shadow: 0px 1px 3px 1px rgba(0, 0, 0, 0.15);\n",
              "      filter: drop-shadow(0px 1px 2px rgba(0, 0, 0, 0.3));\n",
              "      fill: #FFFFFF;\n",
              "    }\n",
              "  </style>\n",
              "\n",
              "      <script>\n",
              "        const buttonEl =\n",
              "          document.querySelector('#df-5f871739-fbf3-4f23-91c8-fc2eb04e1923 button.colab-df-convert');\n",
              "        buttonEl.style.display =\n",
              "          google.colab.kernel.accessAllowed ? 'block' : 'none';\n",
              "\n",
              "        async function convertToInteractive(key) {\n",
              "          const element = document.querySelector('#df-5f871739-fbf3-4f23-91c8-fc2eb04e1923');\n",
              "          const dataTable =\n",
              "            await google.colab.kernel.invokeFunction('convertToInteractive',\n",
              "                                                     [key], {});\n",
              "          if (!dataTable) return;\n",
              "\n",
              "          const docLinkHtml = 'Like what you see? Visit the ' +\n",
              "            '<a target=\"_blank\" href=https://colab.research.google.com/notebooks/data_table.ipynb>data table notebook</a>'\n",
              "            + ' to learn more about interactive tables.';\n",
              "          element.innerHTML = '';\n",
              "          dataTable['output_type'] = 'display_data';\n",
              "          await google.colab.output.renderOutput(dataTable, element);\n",
              "          const docLink = document.createElement('div');\n",
              "          docLink.innerHTML = docLinkHtml;\n",
              "          element.appendChild(docLink);\n",
              "        }\n",
              "      </script>\n",
              "    </div>\n",
              "  </div>\n"
            ]
          },
          "metadata": {},
          "execution_count": 10
        }
      ]
    },
    {
      "cell_type": "code",
      "source": [
        "# drop column\n",
        "data.drop('Unnamed: 0', axis=1, inplace=True)\n",
        "data = data.fillna('')\n",
        "data.reset_index(drop=True, inplace=True)\n",
        "\n",
        "# show the first 5 rows\n",
        "data.head()"
      ],
      "metadata": {
        "colab": {
          "base_uri": "https://localhost:8080/",
          "height": 206
        },
        "id": "BhZalcxKiiKz",
        "outputId": "ca05e681-c83a-44f7-bc5c-ff7e8e40441c"
      },
      "execution_count": null,
      "outputs": [
        {
          "output_type": "execute_result",
          "data": {
            "text/plain": [
              "   label                                       cleaned_text\n",
              "0     -1  حب تر تان قرأ كتب منتشر لي ناس تتكلم عن قصد عد...\n",
              "1      1                                             حمل قع\n",
              "2     -1  كتاب صغح تلخص كل دا صفح كرار طريق ظيع درج ني ق...\n",
              "3      1                     استثنائ جميل جد موقع استراتيجي\n",
              "4     -1  موحش رهيب مليء حشر ذهب مرة خرى قع فندق جوار طي..."
            ],
            "text/html": [
              "\n",
              "\n",
              "  <div id=\"df-bca98e25-b328-4486-84ea-26903ffbbe38\">\n",
              "    <div class=\"colab-df-container\">\n",
              "      <div>\n",
              "<style scoped>\n",
              "    .dataframe tbody tr th:only-of-type {\n",
              "        vertical-align: middle;\n",
              "    }\n",
              "\n",
              "    .dataframe tbody tr th {\n",
              "        vertical-align: top;\n",
              "    }\n",
              "\n",
              "    .dataframe thead th {\n",
              "        text-align: right;\n",
              "    }\n",
              "</style>\n",
              "<table border=\"1\" class=\"dataframe\">\n",
              "  <thead>\n",
              "    <tr style=\"text-align: right;\">\n",
              "      <th></th>\n",
              "      <th>label</th>\n",
              "      <th>cleaned_text</th>\n",
              "    </tr>\n",
              "  </thead>\n",
              "  <tbody>\n",
              "    <tr>\n",
              "      <th>0</th>\n",
              "      <td>-1</td>\n",
              "      <td>حب تر تان قرأ كتب منتشر لي ناس تتكلم عن قصد عد...</td>\n",
              "    </tr>\n",
              "    <tr>\n",
              "      <th>1</th>\n",
              "      <td>1</td>\n",
              "      <td>حمل قع</td>\n",
              "    </tr>\n",
              "    <tr>\n",
              "      <th>2</th>\n",
              "      <td>-1</td>\n",
              "      <td>كتاب صغح تلخص كل دا صفح كرار طريق ظيع درج ني ق...</td>\n",
              "    </tr>\n",
              "    <tr>\n",
              "      <th>3</th>\n",
              "      <td>1</td>\n",
              "      <td>استثنائ جميل جد موقع استراتيجي</td>\n",
              "    </tr>\n",
              "    <tr>\n",
              "      <th>4</th>\n",
              "      <td>-1</td>\n",
              "      <td>موحش رهيب مليء حشر ذهب مرة خرى قع فندق جوار طي...</td>\n",
              "    </tr>\n",
              "  </tbody>\n",
              "</table>\n",
              "</div>\n",
              "      <button class=\"colab-df-convert\" onclick=\"convertToInteractive('df-bca98e25-b328-4486-84ea-26903ffbbe38')\"\n",
              "              title=\"Convert this dataframe to an interactive table.\"\n",
              "              style=\"display:none;\">\n",
              "\n",
              "  <svg xmlns=\"http://www.w3.org/2000/svg\" height=\"24px\"viewBox=\"0 0 24 24\"\n",
              "       width=\"24px\">\n",
              "    <path d=\"M0 0h24v24H0V0z\" fill=\"none\"/>\n",
              "    <path d=\"M18.56 5.44l.94 2.06.94-2.06 2.06-.94-2.06-.94-.94-2.06-.94 2.06-2.06.94zm-11 1L8.5 8.5l.94-2.06 2.06-.94-2.06-.94L8.5 2.5l-.94 2.06-2.06.94zm10 10l.94 2.06.94-2.06 2.06-.94-2.06-.94-.94-2.06-.94 2.06-2.06.94z\"/><path d=\"M17.41 7.96l-1.37-1.37c-.4-.4-.92-.59-1.43-.59-.52 0-1.04.2-1.43.59L10.3 9.45l-7.72 7.72c-.78.78-.78 2.05 0 2.83L4 21.41c.39.39.9.59 1.41.59.51 0 1.02-.2 1.41-.59l7.78-7.78 2.81-2.81c.8-.78.8-2.07 0-2.86zM5.41 20L4 18.59l7.72-7.72 1.47 1.35L5.41 20z\"/>\n",
              "  </svg>\n",
              "      </button>\n",
              "\n",
              "\n",
              "\n",
              "    <div id=\"df-38f388aa-9755-4628-805e-2e033319e89c\">\n",
              "      <button class=\"colab-df-quickchart\" onclick=\"quickchart('df-38f388aa-9755-4628-805e-2e033319e89c')\"\n",
              "              title=\"Suggest charts.\"\n",
              "              style=\"display:none;\">\n",
              "\n",
              "<svg xmlns=\"http://www.w3.org/2000/svg\" height=\"24px\"viewBox=\"0 0 24 24\"\n",
              "     width=\"24px\">\n",
              "    <g>\n",
              "        <path d=\"M19 3H5c-1.1 0-2 .9-2 2v14c0 1.1.9 2 2 2h14c1.1 0 2-.9 2-2V5c0-1.1-.9-2-2-2zM9 17H7v-7h2v7zm4 0h-2V7h2v10zm4 0h-2v-4h2v4z\"/>\n",
              "    </g>\n",
              "</svg>\n",
              "      </button>\n",
              "    </div>\n",
              "\n",
              "<style>\n",
              "  .colab-df-quickchart {\n",
              "    background-color: #E8F0FE;\n",
              "    border: none;\n",
              "    border-radius: 50%;\n",
              "    cursor: pointer;\n",
              "    display: none;\n",
              "    fill: #1967D2;\n",
              "    height: 32px;\n",
              "    padding: 0 0 0 0;\n",
              "    width: 32px;\n",
              "  }\n",
              "\n",
              "  .colab-df-quickchart:hover {\n",
              "    background-color: #E2EBFA;\n",
              "    box-shadow: 0px 1px 2px rgba(60, 64, 67, 0.3), 0px 1px 3px 1px rgba(60, 64, 67, 0.15);\n",
              "    fill: #174EA6;\n",
              "  }\n",
              "\n",
              "  [theme=dark] .colab-df-quickchart {\n",
              "    background-color: #3B4455;\n",
              "    fill: #D2E3FC;\n",
              "  }\n",
              "\n",
              "  [theme=dark] .colab-df-quickchart:hover {\n",
              "    background-color: #434B5C;\n",
              "    box-shadow: 0px 1px 3px 1px rgba(0, 0, 0, 0.15);\n",
              "    filter: drop-shadow(0px 1px 2px rgba(0, 0, 0, 0.3));\n",
              "    fill: #FFFFFF;\n",
              "  }\n",
              "</style>\n",
              "\n",
              "    <script>\n",
              "      async function quickchart(key) {\n",
              "        const containerElement = document.querySelector('#' + key);\n",
              "        const charts = await google.colab.kernel.invokeFunction(\n",
              "            'suggestCharts', [key], {});\n",
              "      }\n",
              "    </script>\n",
              "\n",
              "      <script>\n",
              "\n",
              "function displayQuickchartButton(domScope) {\n",
              "  let quickchartButtonEl =\n",
              "    domScope.querySelector('#df-38f388aa-9755-4628-805e-2e033319e89c button.colab-df-quickchart');\n",
              "  quickchartButtonEl.style.display =\n",
              "    google.colab.kernel.accessAllowed ? 'block' : 'none';\n",
              "}\n",
              "\n",
              "        displayQuickchartButton(document);\n",
              "      </script>\n",
              "      <style>\n",
              "    .colab-df-container {\n",
              "      display:flex;\n",
              "      flex-wrap:wrap;\n",
              "      gap: 12px;\n",
              "    }\n",
              "\n",
              "    .colab-df-convert {\n",
              "      background-color: #E8F0FE;\n",
              "      border: none;\n",
              "      border-radius: 50%;\n",
              "      cursor: pointer;\n",
              "      display: none;\n",
              "      fill: #1967D2;\n",
              "      height: 32px;\n",
              "      padding: 0 0 0 0;\n",
              "      width: 32px;\n",
              "    }\n",
              "\n",
              "    .colab-df-convert:hover {\n",
              "      background-color: #E2EBFA;\n",
              "      box-shadow: 0px 1px 2px rgba(60, 64, 67, 0.3), 0px 1px 3px 1px rgba(60, 64, 67, 0.15);\n",
              "      fill: #174EA6;\n",
              "    }\n",
              "\n",
              "    [theme=dark] .colab-df-convert {\n",
              "      background-color: #3B4455;\n",
              "      fill: #D2E3FC;\n",
              "    }\n",
              "\n",
              "    [theme=dark] .colab-df-convert:hover {\n",
              "      background-color: #434B5C;\n",
              "      box-shadow: 0px 1px 3px 1px rgba(0, 0, 0, 0.15);\n",
              "      filter: drop-shadow(0px 1px 2px rgba(0, 0, 0, 0.3));\n",
              "      fill: #FFFFFF;\n",
              "    }\n",
              "  </style>\n",
              "\n",
              "      <script>\n",
              "        const buttonEl =\n",
              "          document.querySelector('#df-bca98e25-b328-4486-84ea-26903ffbbe38 button.colab-df-convert');\n",
              "        buttonEl.style.display =\n",
              "          google.colab.kernel.accessAllowed ? 'block' : 'none';\n",
              "\n",
              "        async function convertToInteractive(key) {\n",
              "          const element = document.querySelector('#df-bca98e25-b328-4486-84ea-26903ffbbe38');\n",
              "          const dataTable =\n",
              "            await google.colab.kernel.invokeFunction('convertToInteractive',\n",
              "                                                     [key], {});\n",
              "          if (!dataTable) return;\n",
              "\n",
              "          const docLinkHtml = 'Like what you see? Visit the ' +\n",
              "            '<a target=\"_blank\" href=https://colab.research.google.com/notebooks/data_table.ipynb>data table notebook</a>'\n",
              "            + ' to learn more about interactive tables.';\n",
              "          element.innerHTML = '';\n",
              "          dataTable['output_type'] = 'display_data';\n",
              "          await google.colab.output.renderOutput(dataTable, element);\n",
              "          const docLink = document.createElement('div');\n",
              "          docLink.innerHTML = docLinkHtml;\n",
              "          element.appendChild(docLink);\n",
              "        }\n",
              "      </script>\n",
              "    </div>\n",
              "  </div>\n"
            ]
          },
          "metadata": {},
          "execution_count": 11
        }
      ]
    },
    {
      "cell_type": "code",
      "source": [
        "# Extract the preprocessed text and labels from the data\n",
        "X = data['cleaned_text']\n",
        "y = data['label']\n",
        "\n",
        "# Create a label encoder to convert class labels to numerical values\n",
        "label_encoder = LabelEncoder()\n",
        "\n",
        "# Encode the class labels into numerical values\n",
        "y = label_encoder.fit_transform(y)"
      ],
      "metadata": {
        "id": "vwakZO7Bh4B4"
      },
      "execution_count": null,
      "outputs": []
    },
    {
      "cell_type": "markdown",
      "source": [
        "### Split the data into training and testing sets\n",
        "\n",
        "*   X_train: Features for training\n",
        "\n",
        "*   X_test: Features for testing\n",
        "\n",
        "*   y_train: Numerical encoded labels for training\n",
        "\n",
        "*   y_test: Numerical encoded labels for testing\n",
        "\n",
        "The 'test_size' parameter specifies the proportion of the data to be used for testing\n",
        "\n",
        "\n",
        "The 'random_state' parameter is used to ensure reproducibility of the split"
      ],
      "metadata": {
        "id": "Lnkp_SkwRT8r"
      }
    },
    {
      "cell_type": "code",
      "source": [
        "X_train, X_test, y_train, y_test = train_test_split(X, y, test_size=0.1, random_state=42)"
      ],
      "metadata": {
        "id": "-4RhyqI3RR_c"
      },
      "execution_count": null,
      "outputs": []
    },
    {
      "cell_type": "code",
      "source": [
        "# Define the maximum number of words to be considered in the tokenizer\n",
        "max_words = 1663\n",
        "\n",
        "# Create a tokenizer and fit it on the training text data\n",
        "tokenizer = Tokenizer(num_words=max_words)\n",
        "tokenizer.fit_on_texts(X_train)\n",
        "\n",
        "# Convert the training text data into sequences of tokens\n",
        "X_train_tokens = tokenizer.texts_to_sequences(X_train)\n",
        "\n",
        "# Convert the testing text data into sequences of tokens using the same tokenizer\n",
        "X_test_tokens = tokenizer.texts_to_sequences(X_test)"
      ],
      "metadata": {
        "id": "Gf2iFXkXi2Op"
      },
      "execution_count": null,
      "outputs": []
    },
    {
      "cell_type": "code",
      "source": [
        "# Define the maximum sequence length for padding and truncation\n",
        "max_seq_length = 1663\n",
        "\n",
        "# Pad the training sequences to have a uniform length\n",
        "X_train_padded = pad_sequences(X_train_tokens, maxlen=max_seq_length, padding='post', truncating='post')\n",
        "\n",
        "# Pad the testing sequences using the same maximum sequence length\n",
        "X_test_padded = pad_sequences(X_test_tokens, maxlen=max_seq_length, padding='post', truncating='post')"
      ],
      "metadata": {
        "id": "upcC1hgCi4eL"
      },
      "execution_count": null,
      "outputs": []
    },
    {
      "cell_type": "code",
      "source": [
        "# Define the binary classification model using a Sequential API\n",
        "binary_model = Sequential([\n",
        "    Embedding(input_dim=max_words, output_dim=128, input_length=max_seq_length),  # Embedding layer\n",
        "    Conv1D(128, 5, activation='relu'),  # 1D Convolutional layer\n",
        "    GlobalMaxPooling1D(),  # Global Max Pooling layer\n",
        "    Dense(64, activation='relu'),  # Fully connected Dense layer\n",
        "    Dropout(0.5),  # Dropout layer for regularization\n",
        "    Dense(1, activation='sigmoid')  # Output layer with sigmoid activation for binary classification\n",
        "])\n",
        "\n",
        "# Define the optimizer with a specific learning rate\n",
        "optimizer = Adam(learning_rate=0.001)\n",
        "\n",
        "# Compile the binary classification model\n",
        "binary_model.compile(loss='binary_crossentropy', optimizer=optimizer, metrics=['accuracy'])\n",
        "\n",
        "# Define early stopping to prevent overfitting\n",
        "early_stopping = EarlyStopping(monitor='val_loss', patience=2, restore_best_weights=True)\n",
        "\n",
        "# Define learning rate reduction when validation loss plateaus\n",
        "reduce_lr = ReduceLROnPlateau(monitor='val_loss', factor=0.2, patience=1, min_lr=1e-6)\n",
        "\n",
        "# Display the summary of the binary classification model\n",
        "binary_model.summary()"
      ],
      "metadata": {
        "colab": {
          "base_uri": "https://localhost:8080/"
        },
        "id": "k0WySX-Hi66i",
        "outputId": "8ebd9a6b-b650-4595-913d-364404dd633c"
      },
      "execution_count": null,
      "outputs": [
        {
          "output_type": "stream",
          "name": "stdout",
          "text": [
            "Model: \"sequential_4\"\n",
            "_________________________________________________________________\n",
            " Layer (type)                Output Shape              Param #   \n",
            "=================================================================\n",
            " embedding_4 (Embedding)     (None, 1663, 128)         212864    \n",
            "                                                                 \n",
            " conv1d_2 (Conv1D)           (None, 1659, 128)         82048     \n",
            "                                                                 \n",
            " global_max_pooling1d_2 (Glo  (None, 128)              0         \n",
            " balMaxPooling1D)                                                \n",
            "                                                                 \n",
            " dense_6 (Dense)             (None, 64)                8256      \n",
            "                                                                 \n",
            " dropout_2 (Dropout)         (None, 64)                0         \n",
            "                                                                 \n",
            " dense_7 (Dense)             (None, 1)                 65        \n",
            "                                                                 \n",
            "=================================================================\n",
            "Total params: 303,233\n",
            "Trainable params: 303,233\n",
            "Non-trainable params: 0\n",
            "_________________________________________________________________\n"
          ]
        }
      ]
    },
    {
      "cell_type": "code",
      "source": [
        "# Train the binary classification model with training data and validate using a validation split\n",
        "history = binary_model.fit(X_train_padded, y_train, validation_split=0.1, epochs=10, batch_size=32,\n",
        "                            callbacks=[early_stopping, reduce_lr])\n",
        "\n",
        "# Predict probabilities using the trained binary classification model on the test data\n",
        "y_pred = binary_model.predict(X_test_padded)\n",
        "\n",
        "# Convert probabilities to binary class predictions (0 or 1) using rounding\n",
        "y_pred_classes = np.round(y_pred)\n",
        "\n",
        "# Convert numerical labels back to their original class labels\n",
        "y_test_original = label_encoder.inverse_transform(y_test)\n",
        "y_pred_original = label_encoder.inverse_transform(y_pred_classes.astype(int))\n",
        "\n",
        "# Generate a classification report to evaluate the model's performance\n",
        "classification_rep = classification_report(y_test_original, y_pred_original)\n",
        "\n",
        "# Print the classification report to the console\n",
        "print(\"Classification Report:\\n\", classification_rep)"
      ],
      "metadata": {
        "colab": {
          "base_uri": "https://localhost:8080/"
        },
        "id": "oP_2Sc7gi9sy",
        "outputId": "91a8877e-316f-451a-f75a-e7768c58fbed"
      },
      "execution_count": null,
      "outputs": [
        {
          "output_type": "stream",
          "name": "stdout",
          "text": [
            "Epoch 1/10\n",
            "1688/1688 [==============================] - 88s 52ms/step - loss: 0.4137 - accuracy: 0.8013 - val_loss: 0.3765 - val_accuracy: 0.8213 - lr: 0.0010\n",
            "Epoch 2/10\n",
            "1688/1688 [==============================] - 36s 21ms/step - loss: 0.3312 - accuracy: 0.8536 - val_loss: 0.3680 - val_accuracy: 0.8260 - lr: 0.0010\n",
            "Epoch 3/10\n",
            "1688/1688 [==============================] - 30s 18ms/step - loss: 0.2699 - accuracy: 0.8856 - val_loss: 0.3868 - val_accuracy: 0.8230 - lr: 0.0010\n",
            "Epoch 4/10\n",
            "1688/1688 [==============================] - 32s 19ms/step - loss: 0.1479 - accuracy: 0.9446 - val_loss: 0.4621 - val_accuracy: 0.8223 - lr: 2.0000e-04\n",
            "209/209 [==============================] - 1s 5ms/step\n",
            "              precision    recall  f1-score   support\n",
            "\n",
            "           0       0.81      0.86      0.83      3340\n",
            "           1       0.85      0.79      0.82      3327\n",
            "\n",
            "    accuracy                           0.83      6667\n",
            "   macro avg       0.83      0.83      0.83      6667\n",
            "weighted avg       0.83      0.83      0.83      6667\n",
            "\n"
          ]
        },
        {
          "output_type": "stream",
          "name": "stderr",
          "text": [
            "/usr/local/lib/python3.10/dist-packages/sklearn/preprocessing/_label.py:155: DataConversionWarning: A column-vector y was passed when a 1d array was expected. Please change the shape of y to (n_samples, ), for example using ravel().\n",
            "  y = column_or_1d(y, warn=True)\n"
          ]
        }
      ]
    },
    {
      "cell_type": "code",
      "source": [
        "# show f1_score\n",
        "print(f1_score(y_test_original, y_pred_original))"
      ],
      "metadata": {
        "colab": {
          "base_uri": "https://localhost:8080/"
        },
        "id": "HMyL95WGC1lo",
        "outputId": "623fef21-abca-43b7-ed21-95b628d68e77"
      },
      "execution_count": null,
      "outputs": [
        {
          "output_type": "stream",
          "name": "stdout",
          "text": [
            "0.8198970840480274\n"
          ]
        }
      ]
    },
    {
      "cell_type": "code",
      "source": [
        "# Create a figure with two subplots for loss and accuracy visualization\n",
        "plt.figure(figsize=(12, 4))\n",
        "\n",
        "# Subplot for loss\n",
        "plt.subplot(1, 2, 1)\n",
        "plt.plot(history.history['loss'], label='Train Loss')\n",
        "plt.plot(history.history['val_loss'], label='Validation Loss')\n",
        "plt.xlabel('Epochs')\n",
        "plt.ylabel('Loss')\n",
        "plt.title('Training and Validation Loss')\n",
        "plt.legend()\n",
        "\n",
        "# Subplot for accuracy\n",
        "plt.subplot(1, 2, 2)\n",
        "plt.plot(history.history['accuracy'], label='Train Accuracy')\n",
        "plt.plot(history.history['val_accuracy'], label='Validation Accuracy')\n",
        "plt.xlabel('Epochs')\n",
        "plt.ylabel('Accuracy')\n",
        "plt.title('Training and Validation Accuracy')\n",
        "plt.legend()\n",
        "\n",
        "# Adjust layout and display the plots\n",
        "plt.tight_layout()\n",
        "plt.show()"
      ],
      "metadata": {
        "colab": {
          "base_uri": "https://localhost:8080/",
          "height": 272
        },
        "id": "bDvJ_LFbWFNF",
        "outputId": "b1c8191a-65ec-4beb-9f05-07c410e4351e"
      },
      "execution_count": null,
      "outputs": [
        {
          "output_type": "display_data",
          "data": {
            "text/plain": [
              "<Figure size 1200x400 with 2 Axes>"
            ],
            "image/png": "[encoded data removed]"
          },
          "metadata": {}
        }
      ]
    },
    {
      "cell_type": "code",
      "source": [
        "# save the model\n",
        "binary_model.save('/content/drive/MyDrive/classification_reviews/models/CNN_model1')"
      ],
      "metadata": {
        "colab": {
          "base_uri": "https://localhost:8080/"
        },
        "id": "YpS37e2nBWeM",
        "outputId": "cd7f8f14-f168-4a19-a9ab-fd604f8bc356"
      },
      "execution_count": null,
      "outputs": [
        {
          "output_type": "stream",
          "name": "stderr",
          "text": [
            "WARNING:absl:Found untraced functions such as _jit_compiled_convolution_op while saving (showing 1 of 1). These functions will not be directly callable after loading.\n"
          ]
        }
      ]
    },
    {
      "cell_type": "code",
      "source": [
        "# Create a label encoder to convert class labels to numerical values\n",
        "label_encoder = LabelEncoder()\n",
        "\n",
        "# Encode the class labels into numerical values\n",
        "data['label'] = label_encoder.fit_transform(data['label'])\n",
        "\n",
        "# Split the data into training and testing sets\n",
        "X_train, X_test, y_train, y_test = train_test_split(data['cleaned_text'], data['label'], test_size=0.1, random_state=42)\n",
        "\n",
        "# Define the maximum number of words and maximum sequence length\n",
        "max_words = 10000\n",
        "max_len = 100\n",
        "\n",
        "# Create a tokenizer and fit it on the training text data\n",
        "tokenizer = Tokenizer(num_words=max_words)\n",
        "tokenizer.fit_on_texts(X_train)\n",
        "\n",
        "# Convert the training text data into sequences of tokens\n",
        "X_train_seq = tokenizer.texts_to_sequences(X_train)\n",
        "\n",
        "# Pad the training sequences to have a uniform length\n",
        "X_train_pad = pad_sequences(X_train_seq, maxlen=max_len)\n",
        "\n",
        "# Convert the testing text data into sequences of tokens using the same tokenizer\n",
        "X_test_seq = tokenizer.texts_to_sequences(X_test)\n",
        "\n",
        "# Pad the testing sequences using the same maximum sequence length\n",
        "X_test_pad = pad_sequences(X_test_seq, maxlen=max_len)"
      ],
      "metadata": {
        "id": "TZXAilv2EVW6"
      },
      "execution_count": null,
      "outputs": []
    },
    {
      "cell_type": "code",
      "source": [
        "# Create a sequential model\n",
        "model = Sequential()\n",
        "\n",
        "# Add an embedding layer to the model\n",
        "model.add(Embedding(input_dim=max_words, output_dim=128, input_length=max_len))\n",
        "\n",
        "# Add an LSTM layer to the model\n",
        "model.add(LSTM(units=64, dropout=0.2, recurrent_dropout=0.2))\n",
        "\n",
        "# Add a dense output layer with sigmoid activation for binary classification\n",
        "model.add(Dense(1, activation='sigmoid'))\n",
        "\n",
        "# Define learning rate, batch size, and number of epochs\n",
        "learning_rate = 0.001\n",
        "batch_size = 64\n",
        "epochs = 10\n",
        "\n",
        "# Define the optimizer with the specified learning rate\n",
        "optimizer = Adam(learning_rate=learning_rate)"
      ],
      "metadata": {
        "colab": {
          "base_uri": "https://localhost:8080/"
        },
        "id": "l_if7Ag9Ed1j",
        "outputId": "80e14c27-bf7d-48f5-975d-ec3a32d3d959"
      },
      "execution_count": null,
      "outputs": [
        {
          "output_type": "stream",
          "name": "stderr",
          "text": [
            "WARNING:tensorflow:Layer lstm_1 will not use cuDNN kernels since it doesn't meet the criteria. It will use a generic GPU kernel as fallback when running on GPU.\n"
          ]
        }
      ]
    },
    {
      "cell_type": "code",
      "source": [
        "# Compile the model using binary cross-entropy loss and the specified optimizer\n",
        "model.compile(loss='binary_crossentropy', optimizer=optimizer, metrics=['accuracy'])\n",
        "\n",
        "# Train the model using the training data and validate on the testing data\n",
        "history = model.fit(X_train_pad, y_train, batch_size=batch_size, epochs=epochs,\n",
        "                    validation_data=(X_test_pad, y_test))"
      ],
      "metadata": {
        "colab": {
          "base_uri": "https://localhost:8080/"
        },
        "id": "kwqN38wbElqd",
        "outputId": "ca1a4fec-34d2-4a15-82c9-4bbb6a595008"
      },
      "execution_count": null,
      "outputs": [
        {
          "output_type": "stream",
          "name": "stdout",
          "text": [
            "Epoch 1/10\n",
            "938/938 [==============================] - 613s 648ms/step - loss: 0.4011 - accuracy: 0.8137 - val_loss: 0.3400 - val_accuracy: 0.8475\n",
            "Epoch 2/10\n",
            "938/938 [==============================] - 473s 504ms/step - loss: 0.2962 - accuracy: 0.8727 - val_loss: 0.3412 - val_accuracy: 0.8496\n",
            "Epoch 3/10\n",
            "938/938 [==============================] - 464s 495ms/step - loss: 0.2461 - accuracy: 0.8981 - val_loss: 0.3618 - val_accuracy: 0.8481\n",
            "Epoch 4/10\n",
            "938/938 [==============================] - 462s 492ms/step - loss: 0.2034 - accuracy: 0.9166 - val_loss: 0.3839 - val_accuracy: 0.8418\n",
            "Epoch 5/10\n",
            "938/938 [==============================] - 449s 479ms/step - loss: 0.1688 - accuracy: 0.9325 - val_loss: 0.4707 - val_accuracy: 0.8412\n",
            "Epoch 6/10\n",
            "938/938 [==============================] - 450s 480ms/step - loss: 0.1418 - accuracy: 0.9446 - val_loss: 0.4669 - val_accuracy: 0.8305\n",
            "Epoch 7/10\n",
            "938/938 [==============================] - 450s 480ms/step - loss: 0.1210 - accuracy: 0.9547 - val_loss: 0.5320 - val_accuracy: 0.8356\n",
            "Epoch 8/10\n",
            "938/938 [==============================] - 450s 480ms/step - loss: 0.1002 - accuracy: 0.9630 - val_loss: 0.5807 - val_accuracy: 0.8311\n",
            "Epoch 9/10\n",
            "938/938 [==============================] - 479s 511ms/step - loss: 0.0846 - accuracy: 0.9687 - val_loss: 0.6322 - val_accuracy: 0.8296\n",
            "Epoch 10/10\n",
            "938/938 [==============================] - 443s 472ms/step - loss: 0.0726 - accuracy: 0.9733 - val_loss: 0.7129 - val_accuracy: 0.8295\n"
          ]
        },
        {
          "output_type": "execute_result",
          "data": {
            "text/plain": [
              "<keras.callbacks.History at 0x7b9aec20fe80>"
            ]
          },
          "metadata": {},
          "execution_count": 28
        }
      ]
    },
    {
      "cell_type": "code",
      "source": [
        "# Predict probabilities using the trained LSTM model on the test data\n",
        "y_pred_ls = model.predict(X_test_pad)\n",
        "\n",
        "# Convert probabilities to binary class predictions (0 or 1) using rounding\n",
        "y_pred_ls = np.round(y_pred_ls)\n",
        "\n",
        "# Convert numerical labels back to their original class labels\n",
        "y_test_ls = label_encoder.inverse_transform(y_test)\n",
        "y_pred_lstm = label_encoder.inverse_transform(y_pred_ls.astype(int))\n",
        "\n",
        "# Generate a classification report to evaluate the LSTM model's performance\n",
        "classification_rep_lstm = classification_report(y_test_ls, y_pred_lstm)\n",
        "\n",
        "# Print the classification report to the console\n",
        "print(\"LSTM Classification Report:\\n\", classification_rep_lstm)"
      ],
      "metadata": {
        "colab": {
          "base_uri": "https://localhost:8080/"
        },
        "id": "aosk_UIjFLjc",
        "outputId": "24992e03-2c3e-4720-85a3-8d8c611fb0de"
      },
      "execution_count": null,
      "outputs": [
        {
          "output_type": "stream",
          "name": "stdout",
          "text": [
            "209/209 [==============================] - 8s 37ms/step\n",
            "              precision    recall  f1-score   support\n",
            "\n",
            "           0       0.81      0.86      0.83      3340\n",
            "           1       0.85      0.80      0.82      3327\n",
            "\n",
            "    accuracy                           0.83      6667\n",
            "   macro avg       0.83      0.83      0.83      6667\n",
            "weighted avg       0.83      0.83      0.83      6667\n",
            "\n"
          ]
        },
        {
          "output_type": "stream",
          "name": "stderr",
          "text": [
            "/usr/local/lib/python3.10/dist-packages/sklearn/preprocessing/_label.py:155: DataConversionWarning: A column-vector y was passed when a 1d array was expected. Please change the shape of y to (n_samples, ), for example using ravel().\n",
            "  y = column_or_1d(y, warn=True)\n"
          ]
        }
      ]
    },
    {
      "cell_type": "code",
      "source": [
        "# show f1_score\n",
        "print(f1_score(y_test_ls, y_pred_lstm))"
      ],
      "metadata": {
        "colab": {
          "base_uri": "https://localhost:8080/"
        },
        "id": "DXJOFbktFA-t",
        "outputId": "dadfe789-0dbf-4121-dc84-93e29d9b4594"
      },
      "execution_count": null,
      "outputs": [
        {
          "output_type": "stream",
          "name": "stdout",
          "text": [
            "0.8237482560843281\n"
          ]
        }
      ]
    },
    {
      "cell_type": "code",
      "source": [
        "# save the model\n",
        "model.save('/content/drive/MyDrive/classification_reviews/models/lstm_model1')"
      ],
      "metadata": {
        "id": "uNilpTyTUmQj"
      },
      "execution_count": null,
      "outputs": []
    },
    {
      "cell_type": "markdown",
      "source": [
        "The  CNN and lstm that we built did not achieve the required performance and we were not able to obtain higher performance than the performance of previous machine learning algorithms, so we will create a final notebook in which we will use other deep learning networks."
      ],
      "metadata": {
        "id": "NYf6iQnKVt1c"
      }
    }
  ]
}